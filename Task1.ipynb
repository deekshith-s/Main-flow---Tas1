{
  "nbformat": 4,
  "nbformat_minor": 0,
  "metadata": {
    "colab": {
      "provenance": []
    },
    "kernelspec": {
      "name": "python3",
      "display_name": "Python 3"
    },
    "language_info": {
      "name": "python"
    }
  },
  "cells": [
    {
      "cell_type": "code",
      "execution_count": 4,
      "metadata": {
        "colab": {
          "base_uri": "https://localhost:8080/"
        },
        "id": "Nkvv-3Bqd9TR",
        "outputId": "437531d4-7754-438e-e514-ea672a455600"
      },
      "outputs": [
        {
          "output_type": "stream",
          "name": "stdout",
          "text": [
            "[1, 2, 3, 4, 5, 6, 7]\n",
            "[1, 2, 3, 4, 5, 6, 7, 8, 9]\n",
            "[1, 2, 3, 5, 6, 7, 8, 9]\n",
            "Final Updated list :  [1, 3, 5, 6, 7, 8, 9]\n"
          ]
        }
      ],
      "source": [
        "#Creating a list\n",
        "list=[1,2,3,4,5,6,7]\n",
        "print(list)\n",
        "#Adding a element\n",
        "list.append(8)\n",
        "list.append(9)\n",
        "print(list)\n",
        "#Removing a specific element in the list\n",
        "list.remove(4)\n",
        "print(list)\n",
        "#Removeing the specic element at ith index from the list\n",
        "list.pop(1)\n",
        "print(\"Final Updated list : \",list)\n",
        "\n"
      ]
    },
    {
      "cell_type": "code",
      "source": [
        "# Creation of DICTIONARY\n",
        "dict = {'name': 'Deekshith','age':25,'City':'Amsterdam'}\n",
        "print(dict)\n",
        "\n",
        "# Adding\n",
        "dict ['gender'] = 'Male'\n",
        "print(dict)\n",
        "\n",
        "# Removing\n",
        "del dict['City']\n",
        "print(dict)\n",
        "\n",
        "# Modifying\n",
        "dict['age'] = 20\n",
        "\n",
        "print(\"Updated Dictionary:\",dict)"
      ],
      "metadata": {
        "id": "ndgdAs_Pf_vn",
        "outputId": "173ede15-cf0a-491d-f70b-7648fbd30986",
        "colab": {
          "base_uri": "https://localhost:8080/"
        }
      },
      "execution_count": 6,
      "outputs": [
        {
          "output_type": "stream",
          "name": "stdout",
          "text": [
            "{'name': 'Deekshith', 'age': 25, 'City': 'Amsterdam'}\n",
            "{'name': 'Deekshith', 'age': 25, 'City': 'Amsterdam', 'gender': 'Male'}\n",
            "{'name': 'Deekshith', 'age': 25, 'gender': 'Male'}\n",
            "Updated Dictionary: {'name': 'Deekshith', 'age': 20, 'gender': 'Male'}\n"
          ]
        }
      ]
    },
    {
      "cell_type": "code",
      "source": [
        "# Creation of SET\n",
        "set = {1,2,3,4,5,6,7}\n",
        "print(set)\n",
        "\n",
        "# Adding\n",
        "set.add(9)\n",
        "print(set)\n",
        "\n",
        "# Removing\n",
        "set.remove(3)\n",
        "print(set)\n",
        "\n",
        "# Modifying\n",
        "set.discard(2)\n",
        "set.add(11)\n",
        "\n",
        "print(\"Updated Set:\",set)"
      ],
      "metadata": {
        "id": "BMZeIZa7gNcn",
        "outputId": "6a7b0b33-b594-4c45-d0dd-5e91f9ffa6cf",
        "colab": {
          "base_uri": "https://localhost:8080/"
        }
      },
      "execution_count": 7,
      "outputs": [
        {
          "output_type": "stream",
          "name": "stdout",
          "text": [
            "{1, 2, 3, 4, 5, 6, 7}\n",
            "{1, 2, 3, 4, 5, 6, 7, 9}\n",
            "{1, 2, 4, 5, 6, 7, 9}\n",
            "Updated Set: {1, 4, 5, 6, 7, 9, 11}\n"
          ]
        }
      ]
    }
  ]
}